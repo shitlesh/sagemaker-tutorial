{
 "cells": [
  {
   "cell_type": "markdown",
   "source": [
    "# Mobile Price Calculation using scikit-learn custom script in Sagemaker # "
   ],
   "metadata": {
    "collapsed": false
   },
   "id": "def0d17771abd325"
  },
  {
   "cell_type": "markdown",
   "source": [
    "## Import necessary libraries ##"
   ],
   "metadata": {
    "collapsed": false
   },
   "id": "8d578177eace349b"
  },
  {
   "cell_type": "code",
   "outputs": [
    {
     "name": "stderr",
     "output_type": "stream",
     "text": [
      "/Users/shitleshbakshi/SagemakerTraining/.venv/lib/python3.12/site-packages/pydantic/_internal/_fields.py:192: UserWarning: Field name \"json\" in \"MonitoringDatasetFormat\" shadows an attribute in parent \"Base\"\n",
      "  warnings.warn(\n"
     ]
    },
    {
     "data": {
      "text/plain": "\u001B[2;36m[12/15/24 22:10:00]\u001B[0m\u001B[2;36m \u001B[0m\u001B[1;38;2;0;105;255mINFO    \u001B[0m Found credentials in shared credentials file: ~\u001B[38;2;225;0;225m/.aws/\u001B[0m\u001B[38;2;225;0;225mcredentials\u001B[0m   \u001B]8;id=368070;file:///Users/shitleshbakshi/SagemakerTraining/.venv/lib/python3.12/site-packages/botocore/credentials.py\u001B\\\u001B[2mcredentials.py\u001B[0m\u001B]8;;\u001B\\\u001B[2m:\u001B[0m\u001B]8;id=276160;file:///Users/shitleshbakshi/SagemakerTraining/.venv/lib/python3.12/site-packages/botocore/credentials.py#1278\u001B\\\u001B[2m1278\u001B[0m\u001B]8;;\u001B\\\n",
      "text/html": "<pre style=\"white-space:pre;overflow-x:auto;line-height:normal;font-family:Menlo,'DejaVu Sans Mono',consolas,'Courier New',monospace\"><span style=\"color: #7fbfbf; text-decoration-color: #7fbfbf\">[12/15/24 22:10:00] </span><span style=\"color: #0069ff; text-decoration-color: #0069ff; font-weight: bold\">INFO    </span> Found credentials in shared credentials file: ~<span style=\"color: #e100e1; text-decoration-color: #e100e1\">/.aws/credentials</span>   <a href=\"file:///Users/shitleshbakshi/SagemakerTraining/.venv/lib/python3.12/site-packages/botocore/credentials.py\" target=\"_blank\"><span style=\"color: #7f7f7f; text-decoration-color: #7f7f7f\">credentials.py</span></a><span style=\"color: #7f7f7f; text-decoration-color: #7f7f7f\">:</span><a href=\"file:///Users/shitleshbakshi/SagemakerTraining/.venv/lib/python3.12/site-packages/botocore/credentials.py#1278\" target=\"_blank\"><span style=\"color: #7f7f7f; text-decoration-color: #7f7f7f\">1278</span></a>\n</pre>\n"
     },
     "metadata": {},
     "output_type": "display_data"
    },
    {
     "name": "stdout",
     "output_type": "stream",
     "text": [
      "sagemaker.config INFO - Not applying SDK defaults from location: /Library/Application Support/sagemaker/config.yaml\n",
      "sagemaker.config INFO - Not applying SDK defaults from location: /Users/shitleshbakshi/Library/Application Support/sagemaker/config.yaml\n"
     ]
    }
   ],
   "source": [
    "import sagemaker\n",
    "from sklearn.model_selection import train_test_split\n",
    "import boto3\n",
    "import pandas as pd\n"
   ],
   "metadata": {
    "collapsed": true,
    "ExecuteTime": {
     "end_time": "2024-12-15T22:10:01.213846Z",
     "start_time": "2024-12-15T22:09:55.618763Z"
    }
   },
   "id": "initial_id",
   "execution_count": 1
  },
  {
   "cell_type": "code",
   "outputs": [
    {
     "name": "stdout",
     "output_type": "stream",
     "text": [
      "Using Bucket mymob-demo-bucket\n"
     ]
    }
   ],
   "source": [
    "sm_boto3 = boto3.client('sagemaker')\n",
    "session = sagemaker.Session()\n",
    "region = session.boto_session.region_name\n",
    "bucket = 'mymob-demo-bucket' # Bucket created in AWS S3\n",
    "print('Using Bucket ' + bucket)"
   ],
   "metadata": {
    "collapsed": false,
    "ExecuteTime": {
     "end_time": "2024-12-16T23:25:20.985195Z",
     "start_time": "2024-12-16T23:25:20.830423Z"
    }
   },
   "id": "b99d1e014db63ee7",
   "execution_count": 35
  },
  {
   "cell_type": "code",
   "outputs": [],
   "source": [
    "df = pd.read_csv('mob_price_classification_train.csv')"
   ],
   "metadata": {
    "collapsed": false,
    "ExecuteTime": {
     "end_time": "2024-12-16T23:25:24.553541Z",
     "start_time": "2024-12-16T23:25:24.540313Z"
    }
   },
   "id": "642e2053e44bbc0c",
   "execution_count": 36
  },
  {
   "cell_type": "code",
   "outputs": [
    {
     "data": {
      "text/plain": "   battery_power  blue  clock_speed  dual_sim  fc  four_g  int_memory  m_dep  \\\n0            842     0          2.2         0   1       0           7    0.6   \n1           1021     1          0.5         1   0       1          53    0.7   \n2            563     1          0.5         1   2       1          41    0.9   \n3            615     1          2.5         0   0       0          10    0.8   \n4           1821     1          1.2         0  13       1          44    0.6   \n\n   mobile_wt  n_cores  ...  px_height  px_width   ram  sc_h  sc_w  talk_time  \\\n0        188        2  ...         20       756  2549     9     7         19   \n1        136        3  ...        905      1988  2631    17     3          7   \n2        145        5  ...       1263      1716  2603    11     2          9   \n3        131        6  ...       1216      1786  2769    16     8         11   \n4        141        2  ...       1208      1212  1411     8     2         15   \n\n   three_g  touch_screen  wifi  price_range  \n0        0             0     1            1  \n1        1             1     0            2  \n2        1             1     0            2  \n3        1             0     0            2  \n4        1             1     0            1  \n\n[5 rows x 21 columns]",
      "text/html": "<div>\n<style scoped>\n    .dataframe tbody tr th:only-of-type {\n        vertical-align: middle;\n    }\n\n    .dataframe tbody tr th {\n        vertical-align: top;\n    }\n\n    .dataframe thead th {\n        text-align: right;\n    }\n</style>\n<table border=\"1\" class=\"dataframe\">\n  <thead>\n    <tr style=\"text-align: right;\">\n      <th></th>\n      <th>battery_power</th>\n      <th>blue</th>\n      <th>clock_speed</th>\n      <th>dual_sim</th>\n      <th>fc</th>\n      <th>four_g</th>\n      <th>int_memory</th>\n      <th>m_dep</th>\n      <th>mobile_wt</th>\n      <th>n_cores</th>\n      <th>...</th>\n      <th>px_height</th>\n      <th>px_width</th>\n      <th>ram</th>\n      <th>sc_h</th>\n      <th>sc_w</th>\n      <th>talk_time</th>\n      <th>three_g</th>\n      <th>touch_screen</th>\n      <th>wifi</th>\n      <th>price_range</th>\n    </tr>\n  </thead>\n  <tbody>\n    <tr>\n      <th>0</th>\n      <td>842</td>\n      <td>0</td>\n      <td>2.2</td>\n      <td>0</td>\n      <td>1</td>\n      <td>0</td>\n      <td>7</td>\n      <td>0.6</td>\n      <td>188</td>\n      <td>2</td>\n      <td>...</td>\n      <td>20</td>\n      <td>756</td>\n      <td>2549</td>\n      <td>9</td>\n      <td>7</td>\n      <td>19</td>\n      <td>0</td>\n      <td>0</td>\n      <td>1</td>\n      <td>1</td>\n    </tr>\n    <tr>\n      <th>1</th>\n      <td>1021</td>\n      <td>1</td>\n      <td>0.5</td>\n      <td>1</td>\n      <td>0</td>\n      <td>1</td>\n      <td>53</td>\n      <td>0.7</td>\n      <td>136</td>\n      <td>3</td>\n      <td>...</td>\n      <td>905</td>\n      <td>1988</td>\n      <td>2631</td>\n      <td>17</td>\n      <td>3</td>\n      <td>7</td>\n      <td>1</td>\n      <td>1</td>\n      <td>0</td>\n      <td>2</td>\n    </tr>\n    <tr>\n      <th>2</th>\n      <td>563</td>\n      <td>1</td>\n      <td>0.5</td>\n      <td>1</td>\n      <td>2</td>\n      <td>1</td>\n      <td>41</td>\n      <td>0.9</td>\n      <td>145</td>\n      <td>5</td>\n      <td>...</td>\n      <td>1263</td>\n      <td>1716</td>\n      <td>2603</td>\n      <td>11</td>\n      <td>2</td>\n      <td>9</td>\n      <td>1</td>\n      <td>1</td>\n      <td>0</td>\n      <td>2</td>\n    </tr>\n    <tr>\n      <th>3</th>\n      <td>615</td>\n      <td>1</td>\n      <td>2.5</td>\n      <td>0</td>\n      <td>0</td>\n      <td>0</td>\n      <td>10</td>\n      <td>0.8</td>\n      <td>131</td>\n      <td>6</td>\n      <td>...</td>\n      <td>1216</td>\n      <td>1786</td>\n      <td>2769</td>\n      <td>16</td>\n      <td>8</td>\n      <td>11</td>\n      <td>1</td>\n      <td>0</td>\n      <td>0</td>\n      <td>2</td>\n    </tr>\n    <tr>\n      <th>4</th>\n      <td>1821</td>\n      <td>1</td>\n      <td>1.2</td>\n      <td>0</td>\n      <td>13</td>\n      <td>1</td>\n      <td>44</td>\n      <td>0.6</td>\n      <td>141</td>\n      <td>2</td>\n      <td>...</td>\n      <td>1208</td>\n      <td>1212</td>\n      <td>1411</td>\n      <td>8</td>\n      <td>2</td>\n      <td>15</td>\n      <td>1</td>\n      <td>1</td>\n      <td>0</td>\n      <td>1</td>\n    </tr>\n  </tbody>\n</table>\n<p>5 rows × 21 columns</p>\n</div>"
     },
     "execution_count": 37,
     "metadata": {},
     "output_type": "execute_result"
    }
   ],
   "source": [
    "df.head()"
   ],
   "metadata": {
    "collapsed": false,
    "ExecuteTime": {
     "end_time": "2024-12-16T23:25:25.681696Z",
     "start_time": "2024-12-16T23:25:25.665612Z"
    }
   },
   "id": "f982102dd0f91bb9",
   "execution_count": 37
  },
  {
   "cell_type": "code",
   "outputs": [
    {
     "data": {
      "text/plain": "(2000, 21)"
     },
     "execution_count": 38,
     "metadata": {},
     "output_type": "execute_result"
    }
   ],
   "source": [
    "df.shape"
   ],
   "metadata": {
    "collapsed": false,
    "ExecuteTime": {
     "end_time": "2024-12-16T23:25:26.764181Z",
     "start_time": "2024-12-16T23:25:26.755738Z"
    }
   },
   "id": "a0e0b7dd2facc6c4",
   "execution_count": 38
  },
  {
   "cell_type": "markdown",
   "source": [
    "## Feature Engineering"
   ],
   "metadata": {
    "collapsed": false
   },
   "id": "6f3777dbccb6c5e1"
  },
  {
   "cell_type": "code",
   "outputs": [
    {
     "data": {
      "text/plain": "price_range\n1    0.25\n2    0.25\n3    0.25\n0    0.25\nName: proportion, dtype: float64"
     },
     "execution_count": 39,
     "metadata": {},
     "output_type": "execute_result"
    }
   ],
   "source": [
    "df['price_range'].value_counts(normalize=True)"
   ],
   "metadata": {
    "collapsed": false,
    "ExecuteTime": {
     "end_time": "2024-12-16T23:25:29.672883Z",
     "start_time": "2024-12-16T23:25:29.662888Z"
    }
   },
   "id": "98cf87d9ea0a5796",
   "execution_count": 39
  },
  {
   "cell_type": "code",
   "outputs": [
    {
     "data": {
      "text/plain": "battery_power    0.0\nblue             0.0\nclock_speed      0.0\ndual_sim         0.0\nfc               0.0\nfour_g           0.0\nint_memory       0.0\nm_dep            0.0\nmobile_wt        0.0\nn_cores          0.0\npc               0.0\npx_height        0.0\npx_width         0.0\nram              0.0\nsc_h             0.0\nsc_w             0.0\ntalk_time        0.0\nthree_g          0.0\ntouch_screen     0.0\nwifi             0.0\nprice_range      0.0\ndtype: float64"
     },
     "execution_count": 40,
     "metadata": {},
     "output_type": "execute_result"
    }
   ],
   "source": [
    "df.isnull().mean()*100"
   ],
   "metadata": {
    "collapsed": false,
    "ExecuteTime": {
     "end_time": "2024-12-16T23:25:30.319559Z",
     "start_time": "2024-12-16T23:25:30.312581Z"
    }
   },
   "id": "dc0216b5cd044e44",
   "execution_count": 40
  },
  {
   "cell_type": "code",
   "outputs": [
    {
     "data": {
      "text/plain": "['battery_power',\n 'blue',\n 'clock_speed',\n 'dual_sim',\n 'fc',\n 'four_g',\n 'int_memory',\n 'm_dep',\n 'mobile_wt',\n 'n_cores',\n 'pc',\n 'px_height',\n 'px_width',\n 'ram',\n 'sc_h',\n 'sc_w',\n 'talk_time',\n 'three_g',\n 'touch_screen',\n 'wifi',\n 'price_range']"
     },
     "execution_count": 41,
     "metadata": {},
     "output_type": "execute_result"
    }
   ],
   "source": [
    "features = list(df.columns)\n",
    "features"
   ],
   "metadata": {
    "collapsed": false,
    "ExecuteTime": {
     "end_time": "2024-12-16T23:25:30.908918Z",
     "start_time": "2024-12-16T23:25:30.906273Z"
    }
   },
   "id": "4d9f50f9ed0b4107",
   "execution_count": 41
  },
  {
   "cell_type": "code",
   "outputs": [
    {
     "data": {
      "text/plain": "'price_range'"
     },
     "execution_count": 42,
     "metadata": {},
     "output_type": "execute_result"
    }
   ],
   "source": [
    "label = features.pop(-1)\n",
    "label"
   ],
   "metadata": {
    "collapsed": false,
    "ExecuteTime": {
     "end_time": "2024-12-16T23:25:31.738981Z",
     "start_time": "2024-12-16T23:25:31.734998Z"
    }
   },
   "id": "8818fb8729dd3b9e",
   "execution_count": 42
  },
  {
   "cell_type": "code",
   "outputs": [],
   "source": [
    "x = df[features]\n",
    "y = df[label]"
   ],
   "metadata": {
    "collapsed": false,
    "ExecuteTime": {
     "end_time": "2024-12-16T23:25:32.517138Z",
     "start_time": "2024-12-16T23:25:32.512610Z"
    }
   },
   "id": "e736b995008d0f8c",
   "execution_count": 43
  },
  {
   "cell_type": "code",
   "outputs": [
    {
     "data": {
      "text/plain": "   battery_power  blue  clock_speed  dual_sim  fc  four_g  int_memory  m_dep  \\\n0            842     0          2.2         0   1       0           7    0.6   \n1           1021     1          0.5         1   0       1          53    0.7   \n2            563     1          0.5         1   2       1          41    0.9   \n3            615     1          2.5         0   0       0          10    0.8   \n4           1821     1          1.2         0  13       1          44    0.6   \n\n   mobile_wt  n_cores  pc  px_height  px_width   ram  sc_h  sc_w  talk_time  \\\n0        188        2   2         20       756  2549     9     7         19   \n1        136        3   6        905      1988  2631    17     3          7   \n2        145        5   6       1263      1716  2603    11     2          9   \n3        131        6   9       1216      1786  2769    16     8         11   \n4        141        2  14       1208      1212  1411     8     2         15   \n\n   three_g  touch_screen  wifi  \n0        0             0     1  \n1        1             1     0  \n2        1             1     0  \n3        1             0     0  \n4        1             1     0  ",
      "text/html": "<div>\n<style scoped>\n    .dataframe tbody tr th:only-of-type {\n        vertical-align: middle;\n    }\n\n    .dataframe tbody tr th {\n        vertical-align: top;\n    }\n\n    .dataframe thead th {\n        text-align: right;\n    }\n</style>\n<table border=\"1\" class=\"dataframe\">\n  <thead>\n    <tr style=\"text-align: right;\">\n      <th></th>\n      <th>battery_power</th>\n      <th>blue</th>\n      <th>clock_speed</th>\n      <th>dual_sim</th>\n      <th>fc</th>\n      <th>four_g</th>\n      <th>int_memory</th>\n      <th>m_dep</th>\n      <th>mobile_wt</th>\n      <th>n_cores</th>\n      <th>pc</th>\n      <th>px_height</th>\n      <th>px_width</th>\n      <th>ram</th>\n      <th>sc_h</th>\n      <th>sc_w</th>\n      <th>talk_time</th>\n      <th>three_g</th>\n      <th>touch_screen</th>\n      <th>wifi</th>\n    </tr>\n  </thead>\n  <tbody>\n    <tr>\n      <th>0</th>\n      <td>842</td>\n      <td>0</td>\n      <td>2.2</td>\n      <td>0</td>\n      <td>1</td>\n      <td>0</td>\n      <td>7</td>\n      <td>0.6</td>\n      <td>188</td>\n      <td>2</td>\n      <td>2</td>\n      <td>20</td>\n      <td>756</td>\n      <td>2549</td>\n      <td>9</td>\n      <td>7</td>\n      <td>19</td>\n      <td>0</td>\n      <td>0</td>\n      <td>1</td>\n    </tr>\n    <tr>\n      <th>1</th>\n      <td>1021</td>\n      <td>1</td>\n      <td>0.5</td>\n      <td>1</td>\n      <td>0</td>\n      <td>1</td>\n      <td>53</td>\n      <td>0.7</td>\n      <td>136</td>\n      <td>3</td>\n      <td>6</td>\n      <td>905</td>\n      <td>1988</td>\n      <td>2631</td>\n      <td>17</td>\n      <td>3</td>\n      <td>7</td>\n      <td>1</td>\n      <td>1</td>\n      <td>0</td>\n    </tr>\n    <tr>\n      <th>2</th>\n      <td>563</td>\n      <td>1</td>\n      <td>0.5</td>\n      <td>1</td>\n      <td>2</td>\n      <td>1</td>\n      <td>41</td>\n      <td>0.9</td>\n      <td>145</td>\n      <td>5</td>\n      <td>6</td>\n      <td>1263</td>\n      <td>1716</td>\n      <td>2603</td>\n      <td>11</td>\n      <td>2</td>\n      <td>9</td>\n      <td>1</td>\n      <td>1</td>\n      <td>0</td>\n    </tr>\n    <tr>\n      <th>3</th>\n      <td>615</td>\n      <td>1</td>\n      <td>2.5</td>\n      <td>0</td>\n      <td>0</td>\n      <td>0</td>\n      <td>10</td>\n      <td>0.8</td>\n      <td>131</td>\n      <td>6</td>\n      <td>9</td>\n      <td>1216</td>\n      <td>1786</td>\n      <td>2769</td>\n      <td>16</td>\n      <td>8</td>\n      <td>11</td>\n      <td>1</td>\n      <td>0</td>\n      <td>0</td>\n    </tr>\n    <tr>\n      <th>4</th>\n      <td>1821</td>\n      <td>1</td>\n      <td>1.2</td>\n      <td>0</td>\n      <td>13</td>\n      <td>1</td>\n      <td>44</td>\n      <td>0.6</td>\n      <td>141</td>\n      <td>2</td>\n      <td>14</td>\n      <td>1208</td>\n      <td>1212</td>\n      <td>1411</td>\n      <td>8</td>\n      <td>2</td>\n      <td>15</td>\n      <td>1</td>\n      <td>1</td>\n      <td>0</td>\n    </tr>\n  </tbody>\n</table>\n</div>"
     },
     "execution_count": 44,
     "metadata": {},
     "output_type": "execute_result"
    }
   ],
   "source": [
    "x.head()"
   ],
   "metadata": {
    "collapsed": false,
    "ExecuteTime": {
     "end_time": "2024-12-16T23:25:33.095986Z",
     "start_time": "2024-12-16T23:25:33.093389Z"
    }
   },
   "id": "26c99cb121783c0b",
   "execution_count": 44
  },
  {
   "cell_type": "code",
   "outputs": [
    {
     "data": {
      "text/plain": "0    1\n1    2\n2    2\n3    2\n4    1\nName: price_range, dtype: int64"
     },
     "execution_count": 45,
     "metadata": {},
     "output_type": "execute_result"
    }
   ],
   "source": [
    "y.head()"
   ],
   "metadata": {
    "collapsed": false,
    "ExecuteTime": {
     "end_time": "2024-12-16T23:25:33.760221Z",
     "start_time": "2024-12-16T23:25:33.754233Z"
    }
   },
   "id": "526be087d49afb9e",
   "execution_count": 45
  },
  {
   "cell_type": "code",
   "outputs": [
    {
     "data": {
      "text/plain": "(2000, 20)"
     },
     "execution_count": 46,
     "metadata": {},
     "output_type": "execute_result"
    }
   ],
   "source": [
    "x.shape"
   ],
   "metadata": {
    "collapsed": false,
    "ExecuteTime": {
     "end_time": "2024-12-16T23:25:34.396069Z",
     "start_time": "2024-12-16T23:25:34.392077Z"
    }
   },
   "id": "9d9eecc0f536b755",
   "execution_count": 46
  },
  {
   "cell_type": "code",
   "outputs": [
    {
     "data": {
      "text/plain": "price_range\n1    500\n2    500\n3    500\n0    500\nName: count, dtype: int64"
     },
     "execution_count": 47,
     "metadata": {},
     "output_type": "execute_result"
    }
   ],
   "source": [
    "y.value_counts()"
   ],
   "metadata": {
    "collapsed": false,
    "ExecuteTime": {
     "end_time": "2024-12-16T23:25:35.048145Z",
     "start_time": "2024-12-16T23:25:35.041840Z"
    }
   },
   "id": "c771c48060133523",
   "execution_count": 47
  },
  {
   "cell_type": "code",
   "outputs": [],
   "source": [
    "X_train, X_test, y_train, y_test = train_test_split(x, y, test_size=0.2, random_state=0)"
   ],
   "metadata": {
    "collapsed": false,
    "ExecuteTime": {
     "end_time": "2024-12-16T23:25:35.966163Z",
     "start_time": "2024-12-16T23:25:35.956260Z"
    }
   },
   "id": "fd77d55a3171f1c8",
   "execution_count": 48
  },
  {
   "cell_type": "code",
   "outputs": [
    {
     "name": "stdout",
     "output_type": "stream",
     "text": [
      "(1600, 20) (400, 20) (1600,) (400,)\n"
     ]
    }
   ],
   "source": [
    "print(X_train.shape, X_test.shape, y_train.shape, y_test.shape)"
   ],
   "metadata": {
    "collapsed": false,
    "ExecuteTime": {
     "end_time": "2024-12-16T23:25:36.580802Z",
     "start_time": "2024-12-16T23:25:36.573672Z"
    }
   },
   "id": "b68c0b79aa3833d8",
   "execution_count": 49
  },
  {
   "cell_type": "code",
   "outputs": [],
   "source": [
    "trainX = pd.DataFrame(X_train)\n",
    "trainX[label] = y_train\n",
    "\n",
    "testX = pd.DataFrame(X_test)\n",
    "testX[label] = y_test"
   ],
   "metadata": {
    "collapsed": false,
    "ExecuteTime": {
     "end_time": "2024-12-16T23:25:37.287031Z",
     "start_time": "2024-12-16T23:25:37.283060Z"
    }
   },
   "id": "fed769d594e8b7d4",
   "execution_count": 50
  },
  {
   "cell_type": "code",
   "outputs": [
    {
     "name": "stdout",
     "output_type": "stream",
     "text": [
      "(1600, 21) (400, 21)\n"
     ]
    }
   ],
   "source": [
    "print(trainX.shape, testX.shape)"
   ],
   "metadata": {
    "collapsed": false,
    "ExecuteTime": {
     "end_time": "2024-12-16T23:25:38.102160Z",
     "start_time": "2024-12-16T23:25:38.096391Z"
    }
   },
   "id": "cb6603accb08c9d5",
   "execution_count": 51
  },
  {
   "cell_type": "code",
   "outputs": [
    {
     "data": {
      "text/plain": "      battery_power  blue  clock_speed  dual_sim  fc  four_g  int_memory  \\\n582            1232     0          2.9         1   1       1          24   \n159            1840     0          0.5         1  12       0          34   \n1827           1692     0          2.1         0   4       1           2   \n318             508     0          0.8         0   7       1          42   \n708             977     1          2.8         1   2       0          35   \n\n      m_dep  mobile_wt  n_cores  ...  px_height  px_width   ram  sc_h  sc_w  \\\n582     0.3        169        5  ...        361       809  1257    16    10   \n159     0.7        142        1  ...        311      1545  1078     8     0   \n1827    0.9        106        1  ...       1899      1904  3779     9     3   \n318     0.3         94        1  ...         39       557   663    13    12   \n708     0.6        165        2  ...       1502      1862  3714    19     3   \n\n      talk_time  three_g  touch_screen  wifi  price_range  \n582          16        1             0     0            0  \n159          10        0             0     0            1  \n1827          7        1             1     1            3  \n318           7        1             0     0            0  \n708          10        0             1     1            3  \n\n[5 rows x 21 columns]",
      "text/html": "<div>\n<style scoped>\n    .dataframe tbody tr th:only-of-type {\n        vertical-align: middle;\n    }\n\n    .dataframe tbody tr th {\n        vertical-align: top;\n    }\n\n    .dataframe thead th {\n        text-align: right;\n    }\n</style>\n<table border=\"1\" class=\"dataframe\">\n  <thead>\n    <tr style=\"text-align: right;\">\n      <th></th>\n      <th>battery_power</th>\n      <th>blue</th>\n      <th>clock_speed</th>\n      <th>dual_sim</th>\n      <th>fc</th>\n      <th>four_g</th>\n      <th>int_memory</th>\n      <th>m_dep</th>\n      <th>mobile_wt</th>\n      <th>n_cores</th>\n      <th>...</th>\n      <th>px_height</th>\n      <th>px_width</th>\n      <th>ram</th>\n      <th>sc_h</th>\n      <th>sc_w</th>\n      <th>talk_time</th>\n      <th>three_g</th>\n      <th>touch_screen</th>\n      <th>wifi</th>\n      <th>price_range</th>\n    </tr>\n  </thead>\n  <tbody>\n    <tr>\n      <th>582</th>\n      <td>1232</td>\n      <td>0</td>\n      <td>2.9</td>\n      <td>1</td>\n      <td>1</td>\n      <td>1</td>\n      <td>24</td>\n      <td>0.3</td>\n      <td>169</td>\n      <td>5</td>\n      <td>...</td>\n      <td>361</td>\n      <td>809</td>\n      <td>1257</td>\n      <td>16</td>\n      <td>10</td>\n      <td>16</td>\n      <td>1</td>\n      <td>0</td>\n      <td>0</td>\n      <td>0</td>\n    </tr>\n    <tr>\n      <th>159</th>\n      <td>1840</td>\n      <td>0</td>\n      <td>0.5</td>\n      <td>1</td>\n      <td>12</td>\n      <td>0</td>\n      <td>34</td>\n      <td>0.7</td>\n      <td>142</td>\n      <td>1</td>\n      <td>...</td>\n      <td>311</td>\n      <td>1545</td>\n      <td>1078</td>\n      <td>8</td>\n      <td>0</td>\n      <td>10</td>\n      <td>0</td>\n      <td>0</td>\n      <td>0</td>\n      <td>1</td>\n    </tr>\n    <tr>\n      <th>1827</th>\n      <td>1692</td>\n      <td>0</td>\n      <td>2.1</td>\n      <td>0</td>\n      <td>4</td>\n      <td>1</td>\n      <td>2</td>\n      <td>0.9</td>\n      <td>106</td>\n      <td>1</td>\n      <td>...</td>\n      <td>1899</td>\n      <td>1904</td>\n      <td>3779</td>\n      <td>9</td>\n      <td>3</td>\n      <td>7</td>\n      <td>1</td>\n      <td>1</td>\n      <td>1</td>\n      <td>3</td>\n    </tr>\n    <tr>\n      <th>318</th>\n      <td>508</td>\n      <td>0</td>\n      <td>0.8</td>\n      <td>0</td>\n      <td>7</td>\n      <td>1</td>\n      <td>42</td>\n      <td>0.3</td>\n      <td>94</td>\n      <td>1</td>\n      <td>...</td>\n      <td>39</td>\n      <td>557</td>\n      <td>663</td>\n      <td>13</td>\n      <td>12</td>\n      <td>7</td>\n      <td>1</td>\n      <td>0</td>\n      <td>0</td>\n      <td>0</td>\n    </tr>\n    <tr>\n      <th>708</th>\n      <td>977</td>\n      <td>1</td>\n      <td>2.8</td>\n      <td>1</td>\n      <td>2</td>\n      <td>0</td>\n      <td>35</td>\n      <td>0.6</td>\n      <td>165</td>\n      <td>2</td>\n      <td>...</td>\n      <td>1502</td>\n      <td>1862</td>\n      <td>3714</td>\n      <td>19</td>\n      <td>3</td>\n      <td>10</td>\n      <td>0</td>\n      <td>1</td>\n      <td>1</td>\n      <td>3</td>\n    </tr>\n  </tbody>\n</table>\n<p>5 rows × 21 columns</p>\n</div>"
     },
     "execution_count": 52,
     "metadata": {},
     "output_type": "execute_result"
    }
   ],
   "source": [
    "trainX.head()"
   ],
   "metadata": {
    "collapsed": false,
    "ExecuteTime": {
     "end_time": "2024-12-16T23:25:38.773803Z",
     "start_time": "2024-12-16T23:25:38.770119Z"
    }
   },
   "id": "971bd4f3b37d6af6",
   "execution_count": 52
  },
  {
   "cell_type": "code",
   "outputs": [
    {
     "data": {
      "text/plain": "battery_power    0\nblue             0\nclock_speed      0\ndual_sim         0\nfc               0\nfour_g           0\nint_memory       0\nm_dep            0\nmobile_wt        0\nn_cores          0\npc               0\npx_height        0\npx_width         0\nram              0\nsc_h             0\nsc_w             0\ntalk_time        0\nthree_g          0\ntouch_screen     0\nwifi             0\nprice_range      0\ndtype: int64"
     },
     "execution_count": 53,
     "metadata": {},
     "output_type": "execute_result"
    }
   ],
   "source": [
    "trainX.isnull().sum()"
   ],
   "metadata": {
    "collapsed": false,
    "ExecuteTime": {
     "end_time": "2024-12-16T23:25:39.577020Z",
     "start_time": "2024-12-16T23:25:39.570948Z"
    }
   },
   "id": "c658abee9301cc79",
   "execution_count": 53
  },
  {
   "cell_type": "code",
   "outputs": [
    {
     "data": {
      "text/plain": "battery_power    0\nblue             0\nclock_speed      0\ndual_sim         0\nfc               0\nfour_g           0\nint_memory       0\nm_dep            0\nmobile_wt        0\nn_cores          0\npc               0\npx_height        0\npx_width         0\nram              0\nsc_h             0\nsc_w             0\ntalk_time        0\nthree_g          0\ntouch_screen     0\nwifi             0\nprice_range      0\ndtype: int64"
     },
     "execution_count": 54,
     "metadata": {},
     "output_type": "execute_result"
    }
   ],
   "source": [
    "testX.isnull().sum()"
   ],
   "metadata": {
    "collapsed": false,
    "ExecuteTime": {
     "end_time": "2024-12-16T23:25:40.221082Z",
     "start_time": "2024-12-16T23:25:40.217222Z"
    }
   },
   "id": "4bc9caad0e6cc963",
   "execution_count": 54
  },
  {
   "cell_type": "code",
   "outputs": [],
   "source": [
    "trainX.to_csv('trainX_v1.csv', index=False)\n",
    "testX.to_csv('testX_v1.csv', index=False)"
   ],
   "metadata": {
    "collapsed": false,
    "ExecuteTime": {
     "end_time": "2024-12-16T23:25:40.974044Z",
     "start_time": "2024-12-16T23:25:40.960420Z"
    }
   },
   "id": "d3229f2ab158054e",
   "execution_count": 55
  },
  {
   "cell_type": "markdown",
   "source": [
    "## Push data to S3 ##"
   ],
   "metadata": {
    "collapsed": false
   },
   "id": "b7ab2ab454e587f7"
  },
  {
   "cell_type": "code",
   "outputs": [],
   "source": [
    "sk_prefix = 'sagemaker/mobile-price-classification-model/sklearncontainer'\n",
    "trainpath = session.upload_data(path = 'trainX_v1.csv', bucket = bucket, key_prefix=sk_prefix)\n",
    "testpath = session.upload_data(path = 'testX_v1.csv', bucket = bucket, key_prefix=sk_prefix)"
   ],
   "metadata": {
    "collapsed": false,
    "ExecuteTime": {
     "end_time": "2024-12-16T23:25:50.022435Z",
     "start_time": "2024-12-16T23:25:48.249794Z"
    }
   },
   "id": "23fe7e8017e2fb6d",
   "execution_count": 56
  },
  {
   "cell_type": "code",
   "outputs": [
    {
     "name": "stdout",
     "output_type": "stream",
     "text": [
      "s3://mymob-demo-bucket/sagemaker/mobile-price-classification-model/sklearncontainer/trainX_v1.csv s3://mymob-demo-bucket/sagemaker/mobile-price-classification-model/sklearncontainer/testX_v1.csv\n"
     ]
    }
   ],
   "source": [
    "print(trainpath, testpath)"
   ],
   "metadata": {
    "collapsed": false,
    "ExecuteTime": {
     "end_time": "2024-12-16T23:25:51.684669Z",
     "start_time": "2024-12-16T23:25:51.678633Z"
    }
   },
   "id": "77f5d0de25d6a1bd",
   "execution_count": 57
  },
  {
   "cell_type": "code",
   "outputs": [
    {
     "name": "stdout",
     "output_type": "stream",
     "text": [
      "Overwriting script.py\n"
     ]
    }
   ],
   "source": [
    "%%writefile script.py\n",
    "\n",
    "from sklearn.ensemble import RandomForestClassifier\n",
    "from sklearn.metrics import accuracy_score, classification_report, confusion_matrix, precision_score, recall_score\n",
    "import sklearn\n",
    "import joblib\n",
    "import boto3\n",
    "import pathlib\n",
    "from io import StringIO\n",
    "import argparse\n",
    "import os\n",
    "import numpy as np\n",
    "import pandas as pd\n",
    "\n",
    "def model_fn(model_dir):\n",
    "    classifier = joblib.load(os.path.join(model_dir,'model.joblib'))\n",
    "    return classifier\n",
    "\n",
    "if __name__ =='__main__':\n",
    "    \n",
    "    print('[INFO] Extracting arguments')\n",
    "    parser = argparse.ArgumentParser()\n",
    "    \n",
    "    # hyperparameters sent by the client are passed as command-line arguments to the script.\n",
    "    parser.add_argument(\"--n_estimators\", type=int, default=100)\n",
    "    parser.add_argument(\"--random_state\", type=int, default=0)\n",
    "\n",
    "    # Data, model and output directories\n",
    "    parser.add_argument(\"--model-dir\", type=str, default=os.environ.get(\"SM_MODEL_DIR\"))\n",
    "    parser.add_argument(\"--train\", type=str, default=os.environ.get(\"SM_CHANNEL_TRAIN\"))\n",
    "    parser.add_argument(\"--test\", type=str, default=os.environ.get(\"SM_CHANNEL_TEST\"))\n",
    "    parser.add_argument(\"--train-file\", type=str, default=\"trainX_v1.csv\")\n",
    "    parser.add_argument(\"--test-file\", type=str, default=\"testX_v1.csv\")\n",
    "\n",
    "    args, _ = parser.parse_known_args()\n",
    "    \n",
    "    print(\"SKLearn Version: \", sklearn.__version__)\n",
    "    print(\"Joblib Version: \", joblib.__version__)\n",
    "\n",
    "    print(\"[INFO] Reading data\")\n",
    "    print()\n",
    "    train_df = pd.read_csv(os.path.join(args.train, args.train_file))\n",
    "    test_df = pd.read_csv(os.path.join(args.test, args.test_file))\n",
    "    \n",
    "    features = list(train_df.columns)\n",
    "    label = features.pop(-1)\n",
    "    \n",
    "    print(\"Building training and testing datasets\")\n",
    "    print()\n",
    "    X_train = train_df[features]\n",
    "    X_test = test_df[features]\n",
    "    y_train = train_df[label]\n",
    "    y_test = test_df[label]\n",
    "\n",
    "    print('Column order: ')\n",
    "    print(features)\n",
    "    print()\n",
    "    \n",
    "    print(\"Label column is: \",label)\n",
    "    print()\n",
    "    \n",
    "    print(\"Data Shape: \")\n",
    "    print()\n",
    "    print(\"---- SHAPE OF TRAINING DATA (85%) ----\")\n",
    "    print(X_train.shape)\n",
    "    print(y_train.shape)\n",
    "    print()\n",
    "    print(\"---- SHAPE OF TESTING DATA (15%) ----\")\n",
    "    print(X_test.shape)\n",
    "    print(y_test.shape)\n",
    "    print()\n",
    "    \n",
    "  \n",
    "    print(\"Training RandomForest Model.....\")\n",
    "    print()\n",
    "    model =  RandomForestClassifier(n_estimators=args.n_estimators, random_state=args.random_state, verbose = 3,n_jobs=-1)\n",
    "    model.fit(X_train, y_train)\n",
    "    print()\n",
    "    \n",
    "\n",
    "    model_path = os.path.join(args.model_dir, \"model.joblib\")\n",
    "    joblib.dump(model,model_path)\n",
    "    print(\"Model persisted at \" + model_path)\n",
    "    print()\n",
    "\n",
    "    \n",
    "    y_pred_test = model.predict(X_test)\n",
    "    test_acc = accuracy_score(y_test,y_pred_test)\n",
    "    test_rep = classification_report(y_test,y_pred_test)\n",
    "\n",
    "    print()\n",
    "    print(\"---- METRICS RESULTS FOR TESTING DATA ----\")\n",
    "    print()\n",
    "    print(\"Total Rows are: \", X_test.shape[0])\n",
    "    print('[TESTING] Model Accuracy is: ', test_acc)\n",
    "    print('[TESTING] Testing Report: ')\n",
    "    print(test_rep)"
   ],
   "metadata": {
    "collapsed": false,
    "ExecuteTime": {
     "end_time": "2024-12-16T23:25:55.171055Z",
     "start_time": "2024-12-16T23:25:55.165389Z"
    }
   },
   "id": "3c933174c2cb6f40",
   "execution_count": 58
  },
  {
   "cell_type": "code",
   "outputs": [],
   "source": [
    "from sagemaker.sklearn.estimator import SKLearn\n",
    "\n",
    "FRAMEWORK_VERSION = \"0.23-1\"\n",
    "\n",
    "sklearn_estimator = SKLearn(\n",
    "    entry_point=\"script.py\",\n",
    "    role=\"arn:aws:iam::116981766627:role/SagemakerRole\",\n",
    "    instance_count=1,\n",
    "    instance_type=\"ml.m5.large\",\n",
    "    framework_version=FRAMEWORK_VERSION,\n",
    "    base_job_name=\"RF-custom-sklearn\",\n",
    "    hyperparameters={\n",
    "        \"n_estimators\": 100,\n",
    "        \"random_state\": 0,\n",
    "    },\n",
    "    use_spot_instances = True,\n",
    "    max_wait = 7200,\n",
    "    max_run = 3600\n",
    ")"
   ],
   "metadata": {
    "collapsed": false,
    "ExecuteTime": {
     "end_time": "2024-12-16T23:26:15.158262Z",
     "start_time": "2024-12-16T23:26:14.929382Z"
    }
   },
   "id": "a4e4efbc1a93ae3",
   "execution_count": 59
  },
  {
   "cell_type": "code",
   "outputs": [
    {
     "data": {
      "text/plain": "\u001B[2;36m[12/16/24 23:26:17]\u001B[0m\u001B[2;36m \u001B[0m\u001B[1;38;2;0;105;255mINFO    \u001B[0m SageMaker Python SDK will collect telemetry to help us better  \u001B]8;id=937904;file:///Users/shitleshbakshi/SagemakerTraining/.venv/lib/python3.12/site-packages/sagemaker/telemetry/telemetry_logging.py\u001B\\\u001B[2mtelemetry_logging.py\u001B[0m\u001B]8;;\u001B\\\u001B[2m:\u001B[0m\u001B]8;id=924613;file:///Users/shitleshbakshi/SagemakerTraining/.venv/lib/python3.12/site-packages/sagemaker/telemetry/telemetry_logging.py#90\u001B\\\u001B[2m90\u001B[0m\u001B]8;;\u001B\\\n\u001B[2;36m                    \u001B[0m         understand our user's needs, diagnose issues, and deliver      \u001B[2m                       \u001B[0m\n\u001B[2;36m                    \u001B[0m         additional features.                                           \u001B[2m                       \u001B[0m\n\u001B[2;36m                    \u001B[0m         To opt out of telemetry, please disable via TelemetryOptOut    \u001B[2m                       \u001B[0m\n\u001B[2;36m                    \u001B[0m         parameter in SDK defaults config. For more information, refer  \u001B[2m                       \u001B[0m\n\u001B[2;36m                    \u001B[0m         to                                                             \u001B[2m                       \u001B[0m\n\u001B[2;36m                    \u001B[0m         \u001B[4;38;2;0;105;255mhttps://sagemaker.readthedocs.io/en/stable/overview.html#confi\u001B[0m \u001B[2m                       \u001B[0m\n\u001B[2;36m                    \u001B[0m         \u001B[4;38;2;0;105;255mguring-and-using-defaults-with-the-sagemaker-python-sdk.\u001B[0m       \u001B[2m                       \u001B[0m\n",
      "text/html": "<pre style=\"white-space:pre;overflow-x:auto;line-height:normal;font-family:Menlo,'DejaVu Sans Mono',consolas,'Courier New',monospace\"><span style=\"color: #7fbfbf; text-decoration-color: #7fbfbf\">[12/16/24 23:26:17] </span><span style=\"color: #0069ff; text-decoration-color: #0069ff; font-weight: bold\">INFO    </span> SageMaker Python SDK will collect telemetry to help us better  <a href=\"file:///Users/shitleshbakshi/SagemakerTraining/.venv/lib/python3.12/site-packages/sagemaker/telemetry/telemetry_logging.py\" target=\"_blank\"><span style=\"color: #7f7f7f; text-decoration-color: #7f7f7f\">telemetry_logging.py</span></a><span style=\"color: #7f7f7f; text-decoration-color: #7f7f7f\">:</span><a href=\"file:///Users/shitleshbakshi/SagemakerTraining/.venv/lib/python3.12/site-packages/sagemaker/telemetry/telemetry_logging.py#90\" target=\"_blank\"><span style=\"color: #7f7f7f; text-decoration-color: #7f7f7f\">90</span></a>\n<span style=\"color: #7fbfbf; text-decoration-color: #7fbfbf\">                    </span>         understand our user's needs, diagnose issues, and deliver      <span style=\"color: #7f7f7f; text-decoration-color: #7f7f7f\">                       </span>\n<span style=\"color: #7fbfbf; text-decoration-color: #7fbfbf\">                    </span>         additional features.                                           <span style=\"color: #7f7f7f; text-decoration-color: #7f7f7f\">                       </span>\n<span style=\"color: #7fbfbf; text-decoration-color: #7fbfbf\">                    </span>         To opt out of telemetry, please disable via TelemetryOptOut    <span style=\"color: #7f7f7f; text-decoration-color: #7f7f7f\">                       </span>\n<span style=\"color: #7fbfbf; text-decoration-color: #7fbfbf\">                    </span>         parameter in SDK defaults config. For more information, refer  <span style=\"color: #7f7f7f; text-decoration-color: #7f7f7f\">                       </span>\n<span style=\"color: #7fbfbf; text-decoration-color: #7fbfbf\">                    </span>         to                                                             <span style=\"color: #7f7f7f; text-decoration-color: #7f7f7f\">                       </span>\n<span style=\"color: #7fbfbf; text-decoration-color: #7fbfbf\">                    </span>         <span style=\"color: #0069ff; text-decoration-color: #0069ff; text-decoration: underline\">https://sagemaker.readthedocs.io/en/stable/overview.html#confi</span> <span style=\"color: #7f7f7f; text-decoration-color: #7f7f7f\">                       </span>\n<span style=\"color: #7fbfbf; text-decoration-color: #7fbfbf\">                    </span>         <span style=\"color: #0069ff; text-decoration-color: #0069ff; text-decoration: underline\">guring-and-using-defaults-with-the-sagemaker-python-sdk.</span>       <span style=\"color: #7f7f7f; text-decoration-color: #7f7f7f\">                       </span>\n</pre>\n"
     },
     "metadata": {},
     "output_type": "display_data"
    },
    {
     "data": {
      "text/plain": "\u001B[2;36m[12/16/24 23:26:19]\u001B[0m\u001B[2;36m \u001B[0m\u001B[1;38;2;0;105;255mINFO    \u001B[0m Creating training-job with name:                                       \u001B]8;id=545128;file:///Users/shitleshbakshi/SagemakerTraining/.venv/lib/python3.12/site-packages/sagemaker/session.py\u001B\\\u001B[2msession.py\u001B[0m\u001B]8;;\u001B\\\u001B[2m:\u001B[0m\u001B]8;id=52282;file:///Users/shitleshbakshi/SagemakerTraining/.venv/lib/python3.12/site-packages/sagemaker/session.py#1042\u001B\\\u001B[2m1042\u001B[0m\u001B]8;;\u001B\\\n\u001B[2;36m                    \u001B[0m         RF-custom-sklearn-\u001B[1;36m2024\u001B[0m-12-16-23-26-17-291                              \u001B[2m               \u001B[0m\n",
      "text/html": "<pre style=\"white-space:pre;overflow-x:auto;line-height:normal;font-family:Menlo,'DejaVu Sans Mono',consolas,'Courier New',monospace\"><span style=\"color: #7fbfbf; text-decoration-color: #7fbfbf\">[12/16/24 23:26:19] </span><span style=\"color: #0069ff; text-decoration-color: #0069ff; font-weight: bold\">INFO    </span> Creating training-job with name:                                       <a href=\"file:///Users/shitleshbakshi/SagemakerTraining/.venv/lib/python3.12/site-packages/sagemaker/session.py\" target=\"_blank\"><span style=\"color: #7f7f7f; text-decoration-color: #7f7f7f\">session.py</span></a><span style=\"color: #7f7f7f; text-decoration-color: #7f7f7f\">:</span><a href=\"file:///Users/shitleshbakshi/SagemakerTraining/.venv/lib/python3.12/site-packages/sagemaker/session.py#1042\" target=\"_blank\"><span style=\"color: #7f7f7f; text-decoration-color: #7f7f7f\">1042</span></a>\n<span style=\"color: #7fbfbf; text-decoration-color: #7fbfbf\">                    </span>         RF-custom-sklearn-<span style=\"color: #008080; text-decoration-color: #008080; font-weight: bold\">2024</span>-12-16-23-26-17-291                              <span style=\"color: #7f7f7f; text-decoration-color: #7f7f7f\">               </span>\n</pre>\n"
     },
     "metadata": {},
     "output_type": "display_data"
    },
    {
     "name": "stdout",
     "output_type": "stream",
     "text": [
      "2024-12-16 23:26:21 Starting - Starting the training job...\n",
      "2024-12-16 23:26:35 Starting - Preparing the instances for training...\n",
      "2024-12-16 23:27:28 Downloading - Downloading the training image.....\u001B[34m2024-12-16 23:28:13,464 sagemaker-containers INFO     Imported framework sagemaker_sklearn_container.training\u001B[0m\n",
      "\u001B[34m2024-12-16 23:28:13,468 sagemaker-training-toolkit INFO     No GPUs detected (normal if no gpus installed)\u001B[0m\n",
      "\u001B[34m2024-12-16 23:28:13,508 sagemaker_sklearn_container.training INFO     Invoking user training script.\u001B[0m\n",
      "\u001B[34m2024-12-16 23:28:13,658 sagemaker-training-toolkit INFO     No GPUs detected (normal if no gpus installed)\u001B[0m\n",
      "\u001B[34m2024-12-16 23:28:13,670 sagemaker-training-toolkit INFO     No GPUs detected (normal if no gpus installed)\u001B[0m\n",
      "\u001B[34m2024-12-16 23:28:13,682 sagemaker-training-toolkit INFO     No GPUs detected (normal if no gpus installed)\u001B[0m\n",
      "\u001B[34m2024-12-16 23:28:13,690 sagemaker-training-toolkit INFO     Invoking user script\u001B[0m\n",
      "\u001B[34mTraining Env:\u001B[0m\n",
      "\u001B[34m{\n",
      "    \"additional_framework_parameters\": {},\n",
      "    \"channel_input_dirs\": {\n",
      "        \"test\": \"/opt/ml/input/data/test\",\n",
      "        \"train\": \"/opt/ml/input/data/train\"\n",
      "    },\n",
      "    \"current_host\": \"algo-1\",\n",
      "    \"framework_module\": \"sagemaker_sklearn_container.training:main\",\n",
      "    \"hosts\": [\n",
      "        \"algo-1\"\n",
      "    ],\n",
      "    \"hyperparameters\": {\n",
      "        \"n_estimators\": 100,\n",
      "        \"random_state\": 0\n",
      "    },\n",
      "    \"input_config_dir\": \"/opt/ml/input/config\",\n",
      "    \"input_data_config\": {\n",
      "        \"test\": {\n",
      "            \"TrainingInputMode\": \"File\",\n",
      "            \"S3DistributionType\": \"FullyReplicated\",\n",
      "            \"RecordWrapperType\": \"None\"\n",
      "        },\n",
      "        \"train\": {\n",
      "            \"TrainingInputMode\": \"File\",\n",
      "            \"S3DistributionType\": \"FullyReplicated\",\n",
      "            \"RecordWrapperType\": \"None\"\n",
      "        }\n",
      "    },\n",
      "    \"input_dir\": \"/opt/ml/input\",\n",
      "    \"is_master\": true,\n",
      "    \"job_name\": \"RF-custom-sklearn-2024-12-16-23-26-17-291\",\n",
      "    \"log_level\": 20,\n",
      "    \"master_hostname\": \"algo-1\",\n",
      "    \"model_dir\": \"/opt/ml/model\",\n",
      "    \"module_dir\": \"s3://sagemaker-us-east-1-116981766627/RF-custom-sklearn-2024-12-16-23-26-17-291/source/sourcedir.tar.gz\",\n",
      "    \"module_name\": \"script\",\n",
      "    \"network_interface_name\": \"eth0\",\n",
      "    \"num_cpus\": 2,\n",
      "    \"num_gpus\": 0,\n",
      "    \"output_data_dir\": \"/opt/ml/output/data\",\n",
      "    \"output_dir\": \"/opt/ml/output\",\n",
      "    \"output_intermediate_dir\": \"/opt/ml/output/intermediate\",\n",
      "    \"resource_config\": {\n",
      "        \"current_host\": \"algo-1\",\n",
      "        \"current_instance_type\": \"ml.m5.large\",\n",
      "        \"current_group_name\": \"homogeneousCluster\",\n",
      "        \"hosts\": [\n",
      "            \"algo-1\"\n",
      "        ],\n",
      "        \"instance_groups\": [\n",
      "            {\n",
      "                \"instance_group_name\": \"homogeneousCluster\",\n",
      "                \"instance_type\": \"ml.m5.large\",\n",
      "                \"hosts\": [\n",
      "                    \"algo-1\"\n",
      "                ]\n",
      "            }\n",
      "        ],\n",
      "        \"network_interface_name\": \"eth0\"\n",
      "    },\n",
      "    \"user_entry_point\": \"script.py\"\u001B[0m\n",
      "\u001B[34m}\u001B[0m\n",
      "\u001B[34mEnvironment variables:\u001B[0m\n",
      "\u001B[34mSM_HOSTS=[\"algo-1\"]\u001B[0m\n",
      "\u001B[34mSM_NETWORK_INTERFACE_NAME=eth0\u001B[0m\n",
      "\u001B[34mSM_HPS={\"n_estimators\":100,\"random_state\":0}\u001B[0m\n",
      "\u001B[34mSM_USER_ENTRY_POINT=script.py\u001B[0m\n",
      "\u001B[34mSM_FRAMEWORK_PARAMS={}\u001B[0m\n",
      "\u001B[34mSM_RESOURCE_CONFIG={\"current_group_name\":\"homogeneousCluster\",\"current_host\":\"algo-1\",\"current_instance_type\":\"ml.m5.large\",\"hosts\":[\"algo-1\"],\"instance_groups\":[{\"hosts\":[\"algo-1\"],\"instance_group_name\":\"homogeneousCluster\",\"instance_type\":\"ml.m5.large\"}],\"network_interface_name\":\"eth0\"}\u001B[0m\n",
      "\u001B[34mSM_INPUT_DATA_CONFIG={\"test\":{\"RecordWrapperType\":\"None\",\"S3DistributionType\":\"FullyReplicated\",\"TrainingInputMode\":\"File\"},\"train\":{\"RecordWrapperType\":\"None\",\"S3DistributionType\":\"FullyReplicated\",\"TrainingInputMode\":\"File\"}}\u001B[0m\n",
      "\u001B[34mSM_OUTPUT_DATA_DIR=/opt/ml/output/data\u001B[0m\n",
      "\u001B[34mSM_CHANNELS=[\"test\",\"train\"]\u001B[0m\n",
      "\u001B[34mSM_CURRENT_HOST=algo-1\u001B[0m\n",
      "\u001B[34mSM_MODULE_NAME=script\u001B[0m\n",
      "\u001B[34mSM_LOG_LEVEL=20\u001B[0m\n",
      "\u001B[34mSM_FRAMEWORK_MODULE=sagemaker_sklearn_container.training:main\u001B[0m\n",
      "\u001B[34mSM_INPUT_DIR=/opt/ml/input\u001B[0m\n",
      "\u001B[34mSM_INPUT_CONFIG_DIR=/opt/ml/input/config\u001B[0m\n",
      "\u001B[34mSM_OUTPUT_DIR=/opt/ml/output\u001B[0m\n",
      "\u001B[34mSM_NUM_CPUS=2\u001B[0m\n",
      "\u001B[34mSM_NUM_GPUS=0\u001B[0m\n",
      "\u001B[34mSM_MODEL_DIR=/opt/ml/model\u001B[0m\n",
      "\u001B[34mSM_MODULE_DIR=s3://sagemaker-us-east-1-116981766627/RF-custom-sklearn-2024-12-16-23-26-17-291/source/sourcedir.tar.gz\u001B[0m\n",
      "\u001B[34mSM_TRAINING_ENV={\"additional_framework_parameters\":{},\"channel_input_dirs\":{\"test\":\"/opt/ml/input/data/test\",\"train\":\"/opt/ml/input/data/train\"},\"current_host\":\"algo-1\",\"framework_module\":\"sagemaker_sklearn_container.training:main\",\"hosts\":[\"algo-1\"],\"hyperparameters\":{\"n_estimators\":100,\"random_state\":0},\"input_config_dir\":\"/opt/ml/input/config\",\"input_data_config\":{\"test\":{\"RecordWrapperType\":\"None\",\"S3DistributionType\":\"FullyReplicated\",\"TrainingInputMode\":\"File\"},\"train\":{\"RecordWrapperType\":\"None\",\"S3DistributionType\":\"FullyReplicated\",\"TrainingInputMode\":\"File\"}},\"input_dir\":\"/opt/ml/input\",\"is_master\":true,\"job_name\":\"RF-custom-sklearn-2024-12-16-23-26-17-291\",\"log_level\":20,\"master_hostname\":\"algo-1\",\"model_dir\":\"/opt/ml/model\",\"module_dir\":\"s3://sagemaker-us-east-1-116981766627/RF-custom-sklearn-2024-12-16-23-26-17-291/source/sourcedir.tar.gz\",\"module_name\":\"script\",\"network_interface_name\":\"eth0\",\"num_cpus\":2,\"num_gpus\":0,\"output_data_dir\":\"/opt/ml/output/data\",\"output_dir\":\"/opt/ml/output\",\"output_intermediate_dir\":\"/opt/ml/output/intermediate\",\"resource_config\":{\"current_group_name\":\"homogeneousCluster\",\"current_host\":\"algo-1\",\"current_instance_type\":\"ml.m5.large\",\"hosts\":[\"algo-1\"],\"instance_groups\":[{\"hosts\":[\"algo-1\"],\"instance_group_name\":\"homogeneousCluster\",\"instance_type\":\"ml.m5.large\"}],\"network_interface_name\":\"eth0\"},\"user_entry_point\":\"script.py\"}\u001B[0m\n",
      "\u001B[34mSM_USER_ARGS=[\"--n_estimators\",\"100\",\"--random_state\",\"0\"]\u001B[0m\n",
      "\u001B[34mSM_OUTPUT_INTERMEDIATE_DIR=/opt/ml/output/intermediate\u001B[0m\n",
      "\u001B[34mSM_CHANNEL_TEST=/opt/ml/input/data/test\u001B[0m\n",
      "\u001B[34mSM_CHANNEL_TRAIN=/opt/ml/input/data/train\u001B[0m\n",
      "\u001B[34mSM_HP_N_ESTIMATORS=100\u001B[0m\n",
      "\u001B[34mSM_HP_RANDOM_STATE=0\u001B[0m\n",
      "\u001B[34mPYTHONPATH=/opt/ml/code:/miniconda3/bin:/miniconda3/lib/python37.zip:/miniconda3/lib/python3.7:/miniconda3/lib/python3.7/lib-dynload:/miniconda3/lib/python3.7/site-packages\u001B[0m\n",
      "\u001B[34mInvoking script with the following command:\u001B[0m\n",
      "\u001B[34m/miniconda3/bin/python script.py --n_estimators 100 --random_state 0\u001B[0m\n",
      "\u001B[34m[INFO] Extracting arguments\u001B[0m\n",
      "\u001B[34mSKLearn Version:  0.23.2\u001B[0m\n",
      "\u001B[34mJoblib Version:  1.2.0\u001B[0m\n",
      "\u001B[34m[INFO] Reading data\u001B[0m\n",
      "\u001B[34mBuilding training and testing datasets\u001B[0m\n",
      "\u001B[34mColumn order: \u001B[0m\n",
      "\u001B[34m['battery_power', 'blue', 'clock_speed', 'dual_sim', 'fc', 'four_g', 'int_memory', 'm_dep', 'mobile_wt', 'n_cores', 'pc', 'px_height', 'px_width', 'ram', 'sc_h', 'sc_w', 'talk_time', 'three_g', 'touch_screen', 'wifi']\u001B[0m\n",
      "\u001B[34mLabel column is:  price_range\u001B[0m\n",
      "\u001B[34mData Shape: \u001B[0m\n",
      "\u001B[34m---- SHAPE OF TRAINING DATA (85%) ----\u001B[0m\n",
      "\u001B[34m(1600, 20)\u001B[0m\n",
      "\u001B[34m(1600,)\u001B[0m\n",
      "\u001B[34m---- SHAPE OF TESTING DATA (15%) ----\u001B[0m\n",
      "\u001B[34m(400, 20)\u001B[0m\n",
      "\u001B[34m(400,)\u001B[0m\n",
      "\u001B[34mTraining RandomForest Model.....\u001B[0m\n",
      "\u001B[34m[Parallel(n_jobs=-1)]: Using backend ThreadingBackend with 2 concurrent workers.\u001B[0m\n",
      "\u001B[34mbuilding tree 1 of 100building tree 2 of 100\u001B[0m\n",
      "\u001B[34mbuilding tree 3 of 100\u001B[0m\n",
      "\u001B[34mbuilding tree 4 of 100\u001B[0m\n",
      "\u001B[34mbuilding tree 5 of 100\u001B[0m\n",
      "\u001B[34mbuilding tree 6 of 100\u001B[0m\n",
      "\u001B[34mbuilding tree 7 of 100\u001B[0m\n",
      "\u001B[34mbuilding tree 8 of 100\u001B[0m\n",
      "\u001B[34mbuilding tree 9 of 100\u001B[0m\n",
      "\u001B[34mbuilding tree 10 of 100\u001B[0m\n",
      "\u001B[34mbuilding tree 11 of 100\u001B[0m\n",
      "\u001B[34mbuilding tree 12 of 100\u001B[0m\n",
      "\u001B[34mbuilding tree 13 of 100\u001B[0m\n",
      "\u001B[34mbuilding tree 14 of 100\u001B[0m\n",
      "\u001B[34mbuilding tree 15 of 100\u001B[0m\n",
      "\u001B[34mbuilding tree 16 of 100\u001B[0m\n",
      "\u001B[34mbuilding tree 17 of 100\u001B[0m\n",
      "\u001B[34mbuilding tree 18 of 100\u001B[0m\n",
      "\u001B[34mbuilding tree 19 of 100\u001B[0m\n",
      "\u001B[34mbuilding tree 20 of 100\u001B[0m\n",
      "\u001B[34mbuilding tree 21 of 100\u001B[0m\n",
      "\u001B[34mbuilding tree 22 of 100\u001B[0m\n",
      "\u001B[34mbuilding tree 23 of 100\u001B[0m\n",
      "\u001B[34mbuilding tree 24 of 100\u001B[0m\n",
      "\u001B[34mbuilding tree 25 of 100\u001B[0m\n",
      "\u001B[34mbuilding tree 26 of 100\u001B[0m\n",
      "\u001B[34mbuilding tree 27 of 100\u001B[0m\n",
      "\u001B[34mbuilding tree 28 of 100\u001B[0m\n",
      "\u001B[34m[Parallel(n_jobs=-1)]: Done  28 tasks      | elapsed:    0.1s\u001B[0m\n",
      "\u001B[34mbuilding tree 29 of 100building tree 30 of 100\u001B[0m\n",
      "\u001B[34mbuilding tree 31 of 100\u001B[0m\n",
      "\u001B[34mbuilding tree 32 of 100\u001B[0m\n",
      "\u001B[34mbuilding tree 33 of 100\u001B[0m\n",
      "\u001B[34mbuilding tree 34 of 100\u001B[0m\n",
      "\u001B[34mbuilding tree 35 of 100\u001B[0m\n",
      "\u001B[34mbuilding tree 36 of 100\u001B[0m\n",
      "\u001B[34mbuilding tree 37 of 100building tree 38 of 100\u001B[0m\n",
      "\u001B[34mbuilding tree 39 of 100\u001B[0m\n",
      "\u001B[34mbuilding tree 40 of 100\u001B[0m\n",
      "\u001B[34mbuilding tree 41 of 100\u001B[0m\n",
      "\u001B[34mbuilding tree 42 of 100\u001B[0m\n",
      "\u001B[34mbuilding tree 43 of 100\u001B[0m\n",
      "\u001B[34mbuilding tree 44 of 100\u001B[0m\n",
      "\u001B[34mbuilding tree 45 of 100\u001B[0m\n",
      "\u001B[34mbuilding tree 46 of 100\u001B[0m\n",
      "\u001B[34mbuilding tree 47 of 100\u001B[0m\n",
      "\u001B[34mbuilding tree 48 of 100\u001B[0m\n",
      "\u001B[34mbuilding tree 49 of 100\u001B[0m\n",
      "\u001B[34mbuilding tree 50 of 100\u001B[0m\n",
      "\u001B[34mbuilding tree 51 of 100\u001B[0m\n",
      "\u001B[34mbuilding tree 52 of 100\u001B[0m\n",
      "\u001B[34mbuilding tree 53 of 100\u001B[0m\n",
      "\u001B[34mbuilding tree 54 of 100\u001B[0m\n",
      "\u001B[34mbuilding tree 55 of 100\u001B[0m\n",
      "\u001B[34mbuilding tree 56 of 100\u001B[0m\n",
      "\u001B[34mbuilding tree 57 of 100\u001B[0m\n",
      "\u001B[34mbuilding tree 58 of 100\u001B[0m\n",
      "\u001B[34mbuilding tree 59 of 100\u001B[0m\n",
      "\u001B[34mbuilding tree 60 of 100\u001B[0m\n",
      "\u001B[34mbuilding tree 61 of 100\u001B[0m\n",
      "\u001B[34mbuilding tree 62 of 100\u001B[0m\n",
      "\u001B[34mbuilding tree 63 of 100\u001B[0m\n",
      "\u001B[34mbuilding tree 64 of 100\u001B[0m\n",
      "\u001B[34mbuilding tree 65 of 100\u001B[0m\n",
      "\u001B[34mbuilding tree 66 of 100\u001B[0m\n",
      "\u001B[34mbuilding tree 67 of 100\u001B[0m\n",
      "\u001B[34mbuilding tree 68 of 100\u001B[0m\n",
      "\u001B[34mbuilding tree 69 of 100\u001B[0m\n",
      "\u001B[34mbuilding tree 70 of 100\u001B[0m\n",
      "\u001B[34mbuilding tree 71 of 100\u001B[0m\n",
      "\u001B[34mbuilding tree 72 of 100\u001B[0m\n",
      "\u001B[34mbuilding tree 73 of 100building tree 74 of 100\u001B[0m\n",
      "\u001B[34mbuilding tree 75 of 100\u001B[0m\n",
      "\u001B[34mbuilding tree 76 of 100\u001B[0m\n",
      "\u001B[34mbuilding tree 77 of 100building tree 78 of 100\u001B[0m\n",
      "\u001B[34mbuilding tree 79 of 100\u001B[0m\n",
      "\u001B[34mbuilding tree 80 of 100\u001B[0m\n",
      "\u001B[34mbuilding tree 81 of 100\u001B[0m\n",
      "\u001B[34mbuilding tree 82 of 100\u001B[0m\n",
      "\u001B[34mbuilding tree 83 of 100\u001B[0m\n",
      "\u001B[34mbuilding tree 84 of 100\u001B[0m\n",
      "\u001B[34mbuilding tree 85 of 100\u001B[0m\n",
      "\u001B[34mbuilding tree 86 of 100\u001B[0m\n",
      "\u001B[34mbuilding tree 87 of 100building tree 88 of 100\u001B[0m\n",
      "\u001B[34mbuilding tree 89 of 100\u001B[0m\n",
      "\u001B[34mbuilding tree 90 of 100\u001B[0m\n",
      "\u001B[34mbuilding tree 91 of 100\u001B[0m\n",
      "\u001B[34mbuilding tree 92 of 100\u001B[0m\n",
      "\u001B[34mbuilding tree 93 of 100building tree 94 of 100\u001B[0m\n",
      "\u001B[34mbuilding tree 95 of 100\u001B[0m\n",
      "\u001B[34mbuilding tree 96 of 100\u001B[0m\n",
      "\u001B[34mbuilding tree 97 of 100\u001B[0m\n",
      "\u001B[34mbuilding tree 98 of 100building tree 99 of 100\u001B[0m\n",
      "\u001B[34mbuilding tree 100 of 100\u001B[0m\n",
      "\u001B[34m[Parallel(n_jobs=-1)]: Done 100 out of 100 | elapsed:    0.3s finished\u001B[0m\n",
      "\u001B[34mModel persisted at /opt/ml/model/model.joblib\u001B[0m\n",
      "\u001B[34m[Parallel(n_jobs=2)]: Using backend ThreadingBackend with 2 concurrent workers.\u001B[0m\n",
      "\u001B[34m[Parallel(n_jobs=2)]: Done  28 tasks      | elapsed:    0.0s\u001B[0m\n",
      "\u001B[34m[Parallel(n_jobs=2)]: Done 100 out of 100 | elapsed:    0.0s finished\u001B[0m\n",
      "\u001B[34m---- METRICS RESULTS FOR TESTING DATA ----\u001B[0m\n",
      "\u001B[34mTotal Rows are:  400\u001B[0m\n",
      "\u001B[34m[TESTING] Model Accuracy is:  0.8575\u001B[0m\n",
      "\u001B[34m[TESTING] Testing Report: \n",
      "              precision    recall  f1-score   support\n",
      "           0       0.94      0.98      0.96        95\n",
      "           1       0.80      0.79      0.80        92\n",
      "           2       0.76      0.74      0.75        99\n",
      "           3       0.91      0.91      0.91       114\n",
      "    accuracy                           0.86       400\n",
      "   macro avg       0.85      0.86      0.85       400\u001B[0m\n",
      "\u001B[34mweighted avg       0.86      0.86      0.86       400\u001B[0m\n",
      "\u001B[34m2024-12-16 23:28:15,239 sagemaker-containers INFO     Reporting training SUCCESS\u001B[0m\n",
      "\n",
      "2024-12-16 23:28:32 Training - Training image download completed. Training in progress.\n",
      "2024-12-16 23:28:32 Uploading - Uploading generated training model\n",
      "2024-12-16 23:28:32 Completed - Training job completed\n",
      "Training seconds: 89\n",
      "Billable seconds: 31\n",
      "Managed Spot Training savings: 65.2%\n"
     ]
    }
   ],
   "source": [
    "#launch training job with async call\n",
    "sklearn_estimator.fit({'train': trainpath, 'test': testpath}, wait=True)"
   ],
   "metadata": {
    "collapsed": false,
    "ExecuteTime": {
     "end_time": "2024-12-16T23:28:45.436398Z",
     "start_time": "2024-12-16T23:26:17.291350Z"
    }
   },
   "id": "3574311b723233c8",
   "execution_count": 60
  },
  {
   "cell_type": "code",
   "outputs": [
    {
     "name": "stdout",
     "output_type": "stream",
     "text": [
      "\n",
      "2024-12-16 23:28:32 Starting - Preparing the instances for training\n",
      "2024-12-16 23:28:32 Downloading - Downloading the training image\n",
      "2024-12-16 23:28:32 Training - Training image download completed. Training in progress.\n",
      "2024-12-16 23:28:32 Uploading - Uploading generated training model\n",
      "2024-12-16 23:28:32 Completed - Training job completed\n",
      "s3://sagemaker-us-east-1-116981766627/RF-custom-sklearn-2024-12-16-23-26-17-291/output/model.tar.gz\n"
     ]
    }
   ],
   "source": [
    "sklearn_estimator.latest_training_job.wait(logs='None')\n",
    "artifact=sm_boto3.describe_training_job(\n",
    "    TrainingJobName=sklearn_estimator.latest_training_job.name\n",
    ")['ModelArtifacts']['S3ModelArtifacts']\n",
    "print(artifact)"
   ],
   "metadata": {
    "collapsed": false,
    "ExecuteTime": {
     "end_time": "2024-12-16T23:46:36.234482Z",
     "start_time": "2024-12-16T23:46:30.050707Z"
    }
   },
   "id": "3aa11d87ae10b287",
   "execution_count": 61
  },
  {
   "cell_type": "code",
   "outputs": [],
   "source": [
    "from sagemaker.sklearn.model import SKLearnModel\n",
    "from time import gmtime, strftime\n",
    "\n",
    "model_name = \"Custom-sklearn-model-\" + strftime(\"%Y-%m-%d-%H-%M-%S\", gmtime())\n",
    "model = SKLearnModel(\n",
    "    name =  model_name,\n",
    "    model_data=artifact,\n",
    "    role=\"arn:aws:iam::116981766627:role/SagemakerRole\",\n",
    "    entry_point=\"script.py\",\n",
    "    framework_version=FRAMEWORK_VERSION,\n",
    ")"
   ],
   "metadata": {
    "collapsed": false,
    "ExecuteTime": {
     "end_time": "2024-12-16T23:48:30.351415Z",
     "start_time": "2024-12-16T23:48:30.339889Z"
    }
   },
   "id": "55e014b95c55a527",
   "execution_count": 62
  },
  {
   "cell_type": "code",
   "outputs": [
    {
     "data": {
      "text/plain": "'Custom-sklearn-model-2024-12-16-23-48-30'"
     },
     "execution_count": 63,
     "metadata": {},
     "output_type": "execute_result"
    }
   ],
   "source": [
    "model_name"
   ],
   "metadata": {
    "collapsed": false,
    "ExecuteTime": {
     "end_time": "2024-12-16T23:48:38.842872Z",
     "start_time": "2024-12-16T23:48:38.838419Z"
    }
   },
   "id": "6176f3dfa948a7f3",
   "execution_count": 63
  },
  {
   "cell_type": "code",
   "outputs": [
    {
     "data": {
      "text/plain": "<sagemaker.sklearn.model.SKLearnModel at 0x16d87fa10>"
     },
     "execution_count": 64,
     "metadata": {},
     "output_type": "execute_result"
    }
   ],
   "source": [
    "model"
   ],
   "metadata": {
    "collapsed": false,
    "ExecuteTime": {
     "end_time": "2024-12-16T23:49:16.501298Z",
     "start_time": "2024-12-16T23:49:16.495771Z"
    }
   },
   "id": "c65d7ecd439f40ad",
   "execution_count": 64
  },
  {
   "cell_type": "code",
   "outputs": [
    {
     "name": "stdout",
     "output_type": "stream",
     "text": [
      "EndpointName=Custom-sklearn-model-2024-12-16-23-49-56\n"
     ]
    },
    {
     "data": {
      "text/plain": "\u001B[2;36m[12/16/24 23:49:59]\u001B[0m\u001B[2;36m \u001B[0m\u001B[1;38;2;0;105;255mINFO    \u001B[0m Creating model with name: Custom-sklearn-model-\u001B[1;36m2024\u001B[0m-\u001B[1;36m12\u001B[0m-\u001B[1;36m16\u001B[0m-\u001B[1;36m23\u001B[0m-\u001B[1;36m48\u001B[0m-\u001B[1;36m30\u001B[0m     \u001B]8;id=112269;file:///Users/shitleshbakshi/SagemakerTraining/.venv/lib/python3.12/site-packages/sagemaker/session.py\u001B\\\u001B[2msession.py\u001B[0m\u001B]8;;\u001B\\\u001B[2m:\u001B[0m\u001B]8;id=349308;file:///Users/shitleshbakshi/SagemakerTraining/.venv/lib/python3.12/site-packages/sagemaker/session.py#4094\u001B\\\u001B[2m4094\u001B[0m\u001B]8;;\u001B\\\n",
      "text/html": "<pre style=\"white-space:pre;overflow-x:auto;line-height:normal;font-family:Menlo,'DejaVu Sans Mono',consolas,'Courier New',monospace\"><span style=\"color: #7fbfbf; text-decoration-color: #7fbfbf\">[12/16/24 23:49:59] </span><span style=\"color: #0069ff; text-decoration-color: #0069ff; font-weight: bold\">INFO    </span> Creating model with name: Custom-sklearn-model-<span style=\"color: #008080; text-decoration-color: #008080; font-weight: bold\">2024</span>-<span style=\"color: #008080; text-decoration-color: #008080; font-weight: bold\">12</span>-<span style=\"color: #008080; text-decoration-color: #008080; font-weight: bold\">16</span>-<span style=\"color: #008080; text-decoration-color: #008080; font-weight: bold\">23</span>-<span style=\"color: #008080; text-decoration-color: #008080; font-weight: bold\">48</span>-<span style=\"color: #008080; text-decoration-color: #008080; font-weight: bold\">30</span>     <a href=\"file:///Users/shitleshbakshi/SagemakerTraining/.venv/lib/python3.12/site-packages/sagemaker/session.py\" target=\"_blank\"><span style=\"color: #7f7f7f; text-decoration-color: #7f7f7f\">session.py</span></a><span style=\"color: #7f7f7f; text-decoration-color: #7f7f7f\">:</span><a href=\"file:///Users/shitleshbakshi/SagemakerTraining/.venv/lib/python3.12/site-packages/sagemaker/session.py#4094\" target=\"_blank\"><span style=\"color: #7f7f7f; text-decoration-color: #7f7f7f\">4094</span></a>\n</pre>\n"
     },
     "metadata": {},
     "output_type": "display_data"
    },
    {
     "data": {
      "text/plain": "\u001B[2;36m[12/16/24 23:50:00]\u001B[0m\u001B[2;36m \u001B[0m\u001B[1;38;2;0;105;255mINFO    \u001B[0m Creating endpoint-config with name                                     \u001B]8;id=254671;file:///Users/shitleshbakshi/SagemakerTraining/.venv/lib/python3.12/site-packages/sagemaker/session.py\u001B\\\u001B[2msession.py\u001B[0m\u001B]8;;\u001B\\\u001B[2m:\u001B[0m\u001B]8;id=285775;file:///Users/shitleshbakshi/SagemakerTraining/.venv/lib/python3.12/site-packages/sagemaker/session.py#5889\u001B\\\u001B[2m5889\u001B[0m\u001B]8;;\u001B\\\n\u001B[2;36m                    \u001B[0m         Custom-sklearn-model-\u001B[1;36m2024\u001B[0m-\u001B[1;36m12\u001B[0m-\u001B[1;36m16\u001B[0m-\u001B[1;36m23\u001B[0m-\u001B[1;36m49\u001B[0m-\u001B[1;36m56\u001B[0m                               \u001B[2m               \u001B[0m\n",
      "text/html": "<pre style=\"white-space:pre;overflow-x:auto;line-height:normal;font-family:Menlo,'DejaVu Sans Mono',consolas,'Courier New',monospace\"><span style=\"color: #7fbfbf; text-decoration-color: #7fbfbf\">[12/16/24 23:50:00] </span><span style=\"color: #0069ff; text-decoration-color: #0069ff; font-weight: bold\">INFO    </span> Creating endpoint-config with name                                     <a href=\"file:///Users/shitleshbakshi/SagemakerTraining/.venv/lib/python3.12/site-packages/sagemaker/session.py\" target=\"_blank\"><span style=\"color: #7f7f7f; text-decoration-color: #7f7f7f\">session.py</span></a><span style=\"color: #7f7f7f; text-decoration-color: #7f7f7f\">:</span><a href=\"file:///Users/shitleshbakshi/SagemakerTraining/.venv/lib/python3.12/site-packages/sagemaker/session.py#5889\" target=\"_blank\"><span style=\"color: #7f7f7f; text-decoration-color: #7f7f7f\">5889</span></a>\n<span style=\"color: #7fbfbf; text-decoration-color: #7fbfbf\">                    </span>         Custom-sklearn-model-<span style=\"color: #008080; text-decoration-color: #008080; font-weight: bold\">2024</span>-<span style=\"color: #008080; text-decoration-color: #008080; font-weight: bold\">12</span>-<span style=\"color: #008080; text-decoration-color: #008080; font-weight: bold\">16</span>-<span style=\"color: #008080; text-decoration-color: #008080; font-weight: bold\">23</span>-<span style=\"color: #008080; text-decoration-color: #008080; font-weight: bold\">49</span>-<span style=\"color: #008080; text-decoration-color: #008080; font-weight: bold\">56</span>                               <span style=\"color: #7f7f7f; text-decoration-color: #7f7f7f\">               </span>\n</pre>\n"
     },
     "metadata": {},
     "output_type": "display_data"
    },
    {
     "data": {
      "text/plain": "\u001B[2;36m                   \u001B[0m\u001B[2;36m \u001B[0m\u001B[1;38;2;0;105;255mINFO    \u001B[0m Creating endpoint with name Custom-sklearn-model-\u001B[1;36m2024\u001B[0m-\u001B[1;36m12\u001B[0m-\u001B[1;36m16\u001B[0m-\u001B[1;36m23\u001B[0m-\u001B[1;36m49\u001B[0m-\u001B[1;36m56\u001B[0m   \u001B]8;id=126046;file:///Users/shitleshbakshi/SagemakerTraining/.venv/lib/python3.12/site-packages/sagemaker/session.py\u001B\\\u001B[2msession.py\u001B[0m\u001B]8;;\u001B\\\u001B[2m:\u001B[0m\u001B]8;id=496181;file:///Users/shitleshbakshi/SagemakerTraining/.venv/lib/python3.12/site-packages/sagemaker/session.py#4711\u001B\\\u001B[2m4711\u001B[0m\u001B]8;;\u001B\\\n",
      "text/html": "<pre style=\"white-space:pre;overflow-x:auto;line-height:normal;font-family:Menlo,'DejaVu Sans Mono',consolas,'Courier New',monospace\"><span style=\"color: #7fbfbf; text-decoration-color: #7fbfbf\">                    </span><span style=\"color: #0069ff; text-decoration-color: #0069ff; font-weight: bold\">INFO    </span> Creating endpoint with name Custom-sklearn-model-<span style=\"color: #008080; text-decoration-color: #008080; font-weight: bold\">2024</span>-<span style=\"color: #008080; text-decoration-color: #008080; font-weight: bold\">12</span>-<span style=\"color: #008080; text-decoration-color: #008080; font-weight: bold\">16</span>-<span style=\"color: #008080; text-decoration-color: #008080; font-weight: bold\">23</span>-<span style=\"color: #008080; text-decoration-color: #008080; font-weight: bold\">49</span>-<span style=\"color: #008080; text-decoration-color: #008080; font-weight: bold\">56</span>   <a href=\"file:///Users/shitleshbakshi/SagemakerTraining/.venv/lib/python3.12/site-packages/sagemaker/session.py\" target=\"_blank\"><span style=\"color: #7f7f7f; text-decoration-color: #7f7f7f\">session.py</span></a><span style=\"color: #7f7f7f; text-decoration-color: #7f7f7f\">:</span><a href=\"file:///Users/shitleshbakshi/SagemakerTraining/.venv/lib/python3.12/site-packages/sagemaker/session.py#4711\" target=\"_blank\"><span style=\"color: #7f7f7f; text-decoration-color: #7f7f7f\">4711</span></a>\n</pre>\n"
     },
     "metadata": {},
     "output_type": "display_data"
    },
    {
     "name": "stdout",
     "output_type": "stream",
     "text": [
      "-----!"
     ]
    }
   ],
   "source": [
    "##Endpoints deployment\n",
    "endpoint_name = \"Custom-sklearn-model-\" + strftime(\"%Y-%m-%d-%H-%M-%S\", gmtime())\n",
    "print(\"EndpointName={}\".format(endpoint_name))\n",
    "\n",
    "predictor = model.deploy(\n",
    "    initial_instance_count=1,\n",
    "    instance_type=\"ml.m4.xlarge\",\n",
    "    endpoint_name=endpoint_name,\n",
    ")"
   ],
   "metadata": {
    "collapsed": false,
    "ExecuteTime": {
     "end_time": "2024-12-16T23:53:02.214132Z",
     "start_time": "2024-12-16T23:49:56.306799Z"
    }
   },
   "id": "58610ab5c1526ed9",
   "execution_count": 65
  },
  {
   "cell_type": "code",
   "outputs": [
    {
     "data": {
      "text/plain": "'Custom-sklearn-model-2024-12-16-23-49-56'"
     },
     "execution_count": 66,
     "metadata": {},
     "output_type": "execute_result"
    }
   ],
   "source": [
    "endpoint_name"
   ],
   "metadata": {
    "collapsed": false,
    "ExecuteTime": {
     "end_time": "2024-12-16T23:53:38.406004Z",
     "start_time": "2024-12-16T23:53:38.390768Z"
    }
   },
   "id": "642ad647a24d2c57",
   "execution_count": 66
  },
  {
   "cell_type": "code",
   "outputs": [
    {
     "data": {
      "text/plain": "[[1454.0,\n  1.0,\n  0.5,\n  1.0,\n  1.0,\n  0.0,\n  34.0,\n  0.7,\n  83.0,\n  4.0,\n  3.0,\n  250.0,\n  1033.0,\n  3419.0,\n  7.0,\n  5.0,\n  5.0,\n  1.0,\n  1.0,\n  0.0],\n [1092.0,\n  1.0,\n  0.5,\n  1.0,\n  10.0,\n  0.0,\n  11.0,\n  0.5,\n  167.0,\n  3.0,\n  14.0,\n  468.0,\n  571.0,\n  737.0,\n  14.0,\n  4.0,\n  11.0,\n  0.0,\n  1.0,\n  0.0]]"
     },
     "execution_count": 67,
     "metadata": {},
     "output_type": "execute_result"
    }
   ],
   "source": [
    "testX[features][0:2].values.tolist()"
   ],
   "metadata": {
    "collapsed": false,
    "ExecuteTime": {
     "end_time": "2024-12-16T23:53:46.072601Z",
     "start_time": "2024-12-16T23:53:46.049803Z"
    }
   },
   "id": "90af0abe78024ce2",
   "execution_count": 67
  },
  {
   "cell_type": "code",
   "outputs": [
    {
     "name": "stdout",
     "output_type": "stream",
     "text": [
      "[3 0]\n"
     ]
    }
   ],
   "source": [
    "print(predictor.predict(testX[features][0:2].values.tolist()))"
   ],
   "metadata": {
    "collapsed": false,
    "ExecuteTime": {
     "end_time": "2024-12-16T23:54:05.498228Z",
     "start_time": "2024-12-16T23:54:04.678686Z"
    }
   },
   "id": "5356034a71744b58",
   "execution_count": 68
  },
  {
   "cell_type": "code",
   "outputs": [
    {
     "data": {
      "text/plain": "{'ResponseMetadata': {'RequestId': '07dc54be-7161-4e1f-8a68-8344ec1bb1c8',\n  'HTTPStatusCode': 200,\n  'HTTPHeaders': {'x-amzn-requestid': '07dc54be-7161-4e1f-8a68-8344ec1bb1c8',\n   'content-type': 'application/x-amz-json-1.1',\n   'date': 'Mon, 16 Dec 2024 23:54:13 GMT',\n   'content-length': '0'},\n  'RetryAttempts': 0}}"
     },
     "execution_count": 69,
     "metadata": {},
     "output_type": "execute_result"
    }
   ],
   "source": [
    "sm_boto3.delete_endpoint(EndpointName=endpoint_name)"
   ],
   "metadata": {
    "collapsed": false,
    "ExecuteTime": {
     "end_time": "2024-12-16T23:54:14.194793Z",
     "start_time": "2024-12-16T23:54:13.577307Z"
    }
   },
   "id": "50e0d87e39fdf626",
   "execution_count": 69
  },
  {
   "cell_type": "code",
   "outputs": [],
   "source": [],
   "metadata": {
    "collapsed": false
   },
   "id": "63e9a00b6a2fc73c"
  }
 ],
 "metadata": {
  "kernelspec": {
   "display_name": "Python 3",
   "language": "python",
   "name": "python3"
  },
  "language_info": {
   "codemirror_mode": {
    "name": "ipython",
    "version": 2
   },
   "file_extension": ".py",
   "mimetype": "text/x-python",
   "name": "python",
   "nbconvert_exporter": "python",
   "pygments_lexer": "ipython2",
   "version": "2.7.6"
  }
 },
 "nbformat": 4,
 "nbformat_minor": 5
}
